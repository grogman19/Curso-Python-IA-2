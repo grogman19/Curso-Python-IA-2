{
 "metadata": {
  "language_info": {
   "codemirror_mode": {
    "name": "ipython",
    "version": 3
   },
   "file_extension": ".py",
   "mimetype": "text/x-python",
   "name": "python",
   "nbconvert_exporter": "python",
   "pygments_lexer": "ipython3",
   "version": "3.6.9"
  },
  "orig_nbformat": 2,
  "kernelspec": {
   "name": "python369jvsc74a57bd031f2aee4e71d21fbe5cf8b01ff0e069b9275f58929596ceb00d14d90e3e16cd6",
   "display_name": "Python 3.6.9 64-bit"
  },
  "metadata": {
   "interpreter": {
    "hash": "31f2aee4e71d21fbe5cf8b01ff0e069b9275f58929596ceb00d14d90e3e16cd6"
   }
  }
 },
 "nbformat": 4,
 "nbformat_minor": 2,
 "cells": [
  {
   "cell_type": "code",
   "execution_count": 1,
   "metadata": {},
   "outputs": [
    {
     "output_type": "stream",
     "name": "stderr",
     "text": [
      "/home/grogman/.local/lib/python3.6/site-packages/tensorflow/python/framework/dtypes.py:516: FutureWarning: Passing (type, 1) or '1type' as a synonym of type is deprecated; in a future version of numpy, it will be understood as (type, (1,)) / '(1,)type'.\n",
      "  _np_qint8 = np.dtype([(\"qint8\", np.int8, 1)])\n",
      "/home/grogman/.local/lib/python3.6/site-packages/tensorflow/python/framework/dtypes.py:517: FutureWarning: Passing (type, 1) or '1type' as a synonym of type is deprecated; in a future version of numpy, it will be understood as (type, (1,)) / '(1,)type'.\n",
      "  _np_quint8 = np.dtype([(\"quint8\", np.uint8, 1)])\n",
      "/home/grogman/.local/lib/python3.6/site-packages/tensorflow/python/framework/dtypes.py:518: FutureWarning: Passing (type, 1) or '1type' as a synonym of type is deprecated; in a future version of numpy, it will be understood as (type, (1,)) / '(1,)type'.\n",
      "  _np_qint16 = np.dtype([(\"qint16\", np.int16, 1)])\n",
      "/home/grogman/.local/lib/python3.6/site-packages/tensorflow/python/framework/dtypes.py:519: FutureWarning: Passing (type, 1) or '1type' as a synonym of type is deprecated; in a future version of numpy, it will be understood as (type, (1,)) / '(1,)type'.\n",
      "  _np_quint16 = np.dtype([(\"quint16\", np.uint16, 1)])\n",
      "/home/grogman/.local/lib/python3.6/site-packages/tensorflow/python/framework/dtypes.py:520: FutureWarning: Passing (type, 1) or '1type' as a synonym of type is deprecated; in a future version of numpy, it will be understood as (type, (1,)) / '(1,)type'.\n",
      "  _np_qint32 = np.dtype([(\"qint32\", np.int32, 1)])\n",
      "/home/grogman/.local/lib/python3.6/site-packages/tensorflow/python/framework/dtypes.py:525: FutureWarning: Passing (type, 1) or '1type' as a synonym of type is deprecated; in a future version of numpy, it will be understood as (type, (1,)) / '(1,)type'.\n",
      "  np_resource = np.dtype([(\"resource\", np.ubyte, 1)])\n",
      "/home/grogman/.local/lib/python3.6/site-packages/tensorboard/compat/tensorflow_stub/dtypes.py:541: FutureWarning: Passing (type, 1) or '1type' as a synonym of type is deprecated; in a future version of numpy, it will be understood as (type, (1,)) / '(1,)type'.\n",
      "  _np_qint8 = np.dtype([(\"qint8\", np.int8, 1)])\n",
      "/home/grogman/.local/lib/python3.6/site-packages/tensorboard/compat/tensorflow_stub/dtypes.py:542: FutureWarning: Passing (type, 1) or '1type' as a synonym of type is deprecated; in a future version of numpy, it will be understood as (type, (1,)) / '(1,)type'.\n",
      "  _np_quint8 = np.dtype([(\"quint8\", np.uint8, 1)])\n",
      "/home/grogman/.local/lib/python3.6/site-packages/tensorboard/compat/tensorflow_stub/dtypes.py:543: FutureWarning: Passing (type, 1) or '1type' as a synonym of type is deprecated; in a future version of numpy, it will be understood as (type, (1,)) / '(1,)type'.\n",
      "  _np_qint16 = np.dtype([(\"qint16\", np.int16, 1)])\n",
      "/home/grogman/.local/lib/python3.6/site-packages/tensorboard/compat/tensorflow_stub/dtypes.py:544: FutureWarning: Passing (type, 1) or '1type' as a synonym of type is deprecated; in a future version of numpy, it will be understood as (type, (1,)) / '(1,)type'.\n",
      "  _np_quint16 = np.dtype([(\"quint16\", np.uint16, 1)])\n",
      "/home/grogman/.local/lib/python3.6/site-packages/tensorboard/compat/tensorflow_stub/dtypes.py:545: FutureWarning: Passing (type, 1) or '1type' as a synonym of type is deprecated; in a future version of numpy, it will be understood as (type, (1,)) / '(1,)type'.\n",
      "  _np_qint32 = np.dtype([(\"qint32\", np.int32, 1)])\n",
      "/home/grogman/.local/lib/python3.6/site-packages/tensorboard/compat/tensorflow_stub/dtypes.py:550: FutureWarning: Passing (type, 1) or '1type' as a synonym of type is deprecated; in a future version of numpy, it will be understood as (type, (1,)) / '(1,)type'.\n",
      "  np_resource = np.dtype([(\"resource\", np.ubyte, 1)])\n"
     ]
    }
   ],
   "source": [
    "import tensorflow as tf\n",
    "mnist = tf.keras.datasets.mnist"
   ]
  },
  {
   "cell_type": "code",
   "execution_count": 2,
   "metadata": {},
   "outputs": [],
   "source": [
    "(x_train, y_train), (x_test, y_test) = mnist.load_data()\n",
    "x_train, x_test = x_train / 255.0, x_test /255.0"
   ]
  },
  {
   "cell_type": "code",
   "execution_count": 3,
   "metadata": {},
   "outputs": [
    {
     "output_type": "stream",
     "name": "stdout",
     "text": [
      "WARNING:tensorflow:From /home/grogman/.local/lib/python3.6/site-packages/tensorflow/python/ops/init_ops.py:1251: calling VarianceScaling.__init__ (from tensorflow.python.ops.init_ops) with dtype is deprecated and will be removed in a future version.\nInstructions for updating:\nCall initializer instance with the dtype argument instead of passing it to the constructor\n"
     ]
    }
   ],
   "source": [
    "model = tf.keras.models.Sequential([\n",
    "    tf.keras.layers.Flatten(),\n",
    "    tf.keras.layers.Dense(512, activation=tf.nn.relu),\n",
    "    tf.keras.layers.Dropout(0.2),\n",
    "    tf.keras.layers.Dense(10, activation=tf.nn.softmax)\n",
    "])\n",
    "model.compile(optimizer='adam',\n",
    "    loss='sparse_categorical_crossentropy',\n",
    "    metrics=['accuracy'])"
   ]
  },
  {
   "cell_type": "code",
   "execution_count": 8,
   "metadata": {},
   "outputs": [
    {
     "output_type": "stream",
     "name": "stdout",
     "text": [
      "Train on 60000 samples, validate on 10000 samples\n",
      "Epoch 1/20\n",
      "60000/60000 [==============================] - 5s 80us/sample - loss: 0.0363 - acc: 0.9876 - val_loss: 0.0653 - val_acc: 0.9813\n",
      "Epoch 2/20\n",
      "60000/60000 [==============================] - 5s 80us/sample - loss: 0.0298 - acc: 0.9901 - val_loss: 0.0643 - val_acc: 0.9826\n",
      "Epoch 3/20\n",
      "60000/60000 [==============================] - 5s 83us/sample - loss: 0.0260 - acc: 0.9910 - val_loss: 0.0732 - val_acc: 0.9802\n",
      "Epoch 4/20\n",
      "60000/60000 [==============================] - 5s 81us/sample - loss: 0.0247 - acc: 0.9916 - val_loss: 0.0727 - val_acc: 0.9821\n",
      "Epoch 5/20\n",
      "60000/60000 [==============================] - 5s 81us/sample - loss: 0.0232 - acc: 0.9920 - val_loss: 0.0793 - val_acc: 0.9796\n",
      "Epoch 6/20\n",
      "60000/60000 [==============================] - 5s 81us/sample - loss: 0.0202 - acc: 0.9930 - val_loss: 0.0793 - val_acc: 0.9809\n",
      "Epoch 7/20\n",
      "60000/60000 [==============================] - 5s 81us/sample - loss: 0.0202 - acc: 0.9931 - val_loss: 0.0726 - val_acc: 0.9830\n",
      "Epoch 8/20\n",
      "60000/60000 [==============================] - 5s 82us/sample - loss: 0.0181 - acc: 0.9942 - val_loss: 0.0786 - val_acc: 0.9828\n",
      "Epoch 9/20\n",
      "60000/60000 [==============================] - 5s 81us/sample - loss: 0.0169 - acc: 0.9943 - val_loss: 0.0723 - val_acc: 0.9836\n",
      "Epoch 10/20\n",
      "60000/60000 [==============================] - 5s 81us/sample - loss: 0.0157 - acc: 0.9947 - val_loss: 0.0810 - val_acc: 0.9840\n",
      "Epoch 11/20\n",
      "60000/60000 [==============================] - 5s 82us/sample - loss: 0.0172 - acc: 0.9941 - val_loss: 0.0877 - val_acc: 0.9818\n",
      "Epoch 12/20\n",
      "60000/60000 [==============================] - 5s 82us/sample - loss: 0.0126 - acc: 0.9956 - val_loss: 0.0846 - val_acc: 0.9835\n",
      "Epoch 13/20\n",
      "60000/60000 [==============================] - 5s 81us/sample - loss: 0.0140 - acc: 0.9952 - val_loss: 0.0938 - val_acc: 0.9824\n",
      "Epoch 14/20\n",
      "60000/60000 [==============================] - 5s 84us/sample - loss: 0.0144 - acc: 0.9953 - val_loss: 0.1034 - val_acc: 0.9806\n",
      "Epoch 15/20\n",
      "60000/60000 [==============================] - 5s 83us/sample - loss: 0.0115 - acc: 0.9961 - val_loss: 0.0889 - val_acc: 0.9829\n",
      "Epoch 16/20\n",
      "60000/60000 [==============================] - 5s 81us/sample - loss: 0.0122 - acc: 0.9959 - val_loss: 0.0966 - val_acc: 0.9836\n",
      "Epoch 17/20\n",
      "60000/60000 [==============================] - 5s 82us/sample - loss: 0.0125 - acc: 0.9958 - val_loss: 0.1043 - val_acc: 0.9829\n",
      "Epoch 18/20\n",
      "60000/60000 [==============================] - 5s 82us/sample - loss: 0.0109 - acc: 0.9964 - val_loss: 0.0978 - val_acc: 0.9839\n",
      "Epoch 19/20\n",
      "60000/60000 [==============================] - 5s 83us/sample - loss: 0.0129 - acc: 0.9958 - val_loss: 0.0975 - val_acc: 0.9849\n",
      "Epoch 20/20\n",
      "60000/60000 [==============================] - 5s 82us/sample - loss: 0.0121 - acc: 0.9961 - val_loss: 0.1027 - val_acc: 0.9833\n"
     ]
    },
    {
     "output_type": "execute_result",
     "data": {
      "text/plain": [
       "<tensorflow.python.keras.callbacks.History at 0x7f78aafac208>"
      ]
     },
     "metadata": {},
     "execution_count": 8
    }
   ],
   "source": [
    "model.fit(x_train, y_train, epochs=20, validation_data=(x_test, y_test))"
   ]
  },
  {
   "cell_type": "code",
   "execution_count": 9,
   "metadata": {},
   "outputs": [
    {
     "output_type": "stream",
     "name": "stdout",
     "text": [
      "10000/10000 [==============================] - 0s 33us/sample - loss: 0.1027 - acc: 0.9833\n"
     ]
    },
    {
     "output_type": "execute_result",
     "data": {
      "text/plain": [
       "[0.10271930464947668, 0.9833]"
      ]
     },
     "metadata": {},
     "execution_count": 9
    }
   ],
   "source": [
    "model.evaluate(x_test, y_test)"
   ]
  },
  {
   "cell_type": "code",
   "execution_count": 10,
   "metadata": {},
   "outputs": [
    {
     "output_type": "stream",
     "name": "stdout",
     "text": [
      "Model: \"sequential\"\n_________________________________________________________________\nLayer (type)                 Output Shape              Param #   \n=================================================================\nflatten (Flatten)            multiple                  0         \n_________________________________________________________________\ndense (Dense)                multiple                  401920    \n_________________________________________________________________\ndropout (Dropout)            multiple                  0         \n_________________________________________________________________\ndense_1 (Dense)              multiple                  5130      \n=================================================================\nTotal params: 407,050\nTrainable params: 407,050\nNon-trainable params: 0\n_________________________________________________________________\n"
     ]
    }
   ],
   "source": [
    "model.summary()"
   ]
  },
  {
   "cell_type": "code",
   "execution_count": null,
   "metadata": {},
   "outputs": [],
   "source": []
  }
 ]
}
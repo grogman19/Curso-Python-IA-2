{
 "metadata": {
  "language_info": {
   "codemirror_mode": {
    "name": "ipython",
    "version": 3
   },
   "file_extension": ".py",
   "mimetype": "text/x-python",
   "name": "python",
   "nbconvert_exporter": "python",
   "pygments_lexer": "ipython3",
   "version": "3.6.9"
  },
  "orig_nbformat": 2,
  "kernelspec": {
   "name": "python369jvsc74a57bd031f2aee4e71d21fbe5cf8b01ff0e069b9275f58929596ceb00d14d90e3e16cd6",
   "display_name": "Python 3.6.9 64-bit"
  },
  "metadata": {
   "interpreter": {
    "hash": "31f2aee4e71d21fbe5cf8b01ff0e069b9275f58929596ceb00d14d90e3e16cd6"
   }
  }
 },
 "nbformat": 4,
 "nbformat_minor": 2,
 "cells": [
  {
   "cell_type": "code",
   "execution_count": 1,
   "metadata": {},
   "outputs": [],
   "source": [
    "import numpy as np\n",
    "import pandas as pd\n",
    "import matplotlib.pyplot as plt"
   ]
  },
  {
   "cell_type": "code",
   "execution_count": 2,
   "metadata": {},
   "outputs": [
    {
     "output_type": "stream",
     "name": "stdout",
     "text": [
      "<class 'pandas.core.frame.DataFrame'>\nRangeIndex: 42000 entries, 0 to 41999\nColumns: 785 entries, label to pixel783\ndtypes: int64(785)\nmemory usage: 251.5 MB\n"
     ]
    }
   ],
   "source": [
    "df = pd.read_csv('train.csv')\n",
    "df.info()"
   ]
  },
  {
   "cell_type": "code",
   "execution_count": 3,
   "metadata": {},
   "outputs": [],
   "source": [
    "y = df['label'].values\n",
    "X = df.drop(columns='label').values"
   ]
  },
  {
   "cell_type": "code",
   "execution_count": 4,
   "metadata": {},
   "outputs": [
    {
     "output_type": "execute_result",
     "data": {
      "text/plain": [
       "<matplotlib.image.AxesImage at 0x7fec8a335da0>"
      ]
     },
     "metadata": {},
     "execution_count": 4
    },
    {
     "output_type": "display_data",
     "data": {
      "text/plain": "<Figure size 432x288 with 1 Axes>",
      "image/svg+xml": "<?xml version=\"1.0\" encoding=\"utf-8\" standalone=\"no\"?>\n<!DOCTYPE svg PUBLIC \"-//W3C//DTD SVG 1.1//EN\"\n  \"http://www.w3.org/Graphics/SVG/1.1/DTD/svg11.dtd\">\n<!-- Created with matplotlib (https://matplotlib.org/) -->\n<svg height=\"248.518125pt\" version=\"1.1\" viewBox=\"0 0 251.565 248.518125\" width=\"251.565pt\" xmlns=\"http://www.w3.org/2000/svg\" xmlns:xlink=\"http://www.w3.org/1999/xlink\">\n <defs>\n  <style type=\"text/css\">\n*{stroke-linecap:butt;stroke-linejoin:round;}\n  </style>\n </defs>\n <g id=\"figure_1\">\n  <g id=\"patch_1\">\n   <path d=\"M 0 248.518125 \nL 251.565 248.518125 \nL 251.565 0 \nL 0 0 \nz\n\" style=\"fill:none;\"/>\n  </g>\n  <g id=\"axes_1\">\n   <g id=\"patch_2\">\n    <path d=\"M 26.925 224.64 \nL 244.365 224.64 \nL 244.365 7.2 \nL 26.925 7.2 \nz\n\" style=\"fill:#ffffff;\"/>\n   </g>\n   <g clip-path=\"url(#pf5c334f469)\">\n    <image height=\"218\" id=\"image2c84424dfc\" transform=\"scale(1 -1)translate(0 -218)\" width=\"218\" x=\"26.925\" xlink:href=\"data:image/png;base64,\niVBORw0KGgoAAAANSUhEUgAAANoAAADaCAYAAADAHVzbAAAABHNCSVQICAgIfAhkiAAABTJJREFUeJzt3b9K1X8cx/Fz1NMWLVJDNAS1RUhDSzRIN9AgQYTQn0HvoEEcu4UcnEyoaIlSCEoIGsRdaYkIamiJwsRIGvzNP+j7PuSp19Hj47G++J5zKJ594HzQ2q1Wa7cF/FND/f4AcBgIDQKEBgFCgwChQYDQIEBoECA0CBAaBAgNAoQGAUKDAKFBgNAgQGgQIDQIEBoECA0ChAYBQoMAoUGA0CBAaBAgNAgQGgQIDQKEBgFCgwChQYDQIGCk3x+gX96+fVvuIyP1H829e/fKfWFh4Y8/E4PLiQYBQoMAoUGA0CBAaBAgNAgQGgQM7D3a9evXy/3s2bPlPjRU/xs0Pz9f7mfOnGncZmdny2cZPE40CBAaBAgNAoQGAUKDAKFBgNAgYGDv0TqdTrl3uyfrZnh4uNzfvXvX0+szWJxoECA0CBAaBAgNAoQGAUKDAKFBwMDeoz179qzcP3z4UO6nT5/u6f2/f//e0/MMFicaBAgNAoQGAUKDAKFBgNAgoN1qtXb7/SH6oduvo5ubmyv3o0ePlvvq6mrjdu3atfLZz58/lzsHjxMNAoQGAUKDAKFBgNAgQGgQIDQIOLT3aN1MTU2V+/379/f82m/evCn38fHxPb82+5MTDQKEBgFCgwChQYDQIEBoECA0CHCP1uD48ePl/vDhw3Kv7sJ+/vxZPjs9PV3ui4uL5c7+40SDAKFBgNAgQGgQIDQIEBoECA0C3KPt0ejoaLm/ePGicbtw4UL57K9fv8p9YmKi3JeXl8udPCcaBAgNAoQGAUKDAKFBgNAgYKTfH+Cg+vLlS7m/f/++cev29X6n0yn3u3fvlvurV6/KfWdnp9z5+5xoECA0CBAaBAgNAoQGAUKDAKFBgB+T+UeqH6N5+fJl+ezY2FhP7722tlbu1a/Cc8f2bzjRIEBoECA0CBAaBAgNAoQGAUKDAPdofXDy5Mly//jxY0+v3263y/3YsWON29bWVk/vze850SBAaBAgNAgQGgQIDQKEBgFCgwC/17EPtre3y31jY6Pcz50719P7f/r0qXG7detW+ezTp097eu/DyokGAUKDAKFBgNAgQGgQIDQIEBoE+Hm0fejEiRPl3u3/P+t2z7a72/xX/uDBg/LZbvds/J4TDQKEBgFCgwChQYDQIEBoEODr/QNocnKy3BcWFsq9+np/c3OzfHZlZaXcp6amyv3bt2/lPqicaBAgNAgQGgQIDQKEBgFCgwChQYB7tAF08eLFcp+fn2/cev1Vdjdu3Cj3x48f9/T6B5UTDQKEBgFCgwChQYDQIEBoECA0CHCPdgidOnWqcXv+/Hn57Pnz58v969ev5X779u3GbWlpqXz2IHOiQYDQIEBoECA0CBAaBAgNAoQGAe7R+J+rV6+W+6NHj8r9yJEj5b6+vt64Xb58uXx2a2ur3PczJxoECA0ChAYBQoMAoUGA0CBAaBDgHo0/MjMzU+6zs7Pl3ul0GrcnT56Uz965c6fcf/z4Ue795ESDAKFBgNAgQGgQIDQIEBoE+Hqfv+r169flfunSpcZteHi4fPbmzZvlvri4WO795ESDAKFBgNAgQGgQIDQIEBoECA0CRvr9ARgs4+Pj5b6ystK4XblypXy23W7v6TPtB040CBAaBAgNAoQGAUKDAKFBgNAgwM+jQYATDQKEBgFCgwChQYDQIEBoECA0CBAaBAgNAoQGAUKDAKFBgNAgQGgQIDQIEBoECA0ChAYBQoMAoUGA0CBAaBAgNAgQGgQIDQKEBgFCgwChQYDQIEBoEPAfoqexbY9IllwAAAAASUVORK5CYII=\" y=\"-6.64\"/>\n   </g>\n   <g id=\"matplotlib.axis_1\">\n    <g id=\"xtick_1\">\n     <g id=\"line2d_1\">\n      <defs>\n       <path d=\"M 0 0 \nL 0 3.5 \n\" id=\"m848429d28f\" style=\"stroke:#000000;stroke-width:0.8;\"/>\n      </defs>\n      <g>\n       <use style=\"stroke:#000000;stroke-width:0.8;\" x=\"30.807857\" xlink:href=\"#m848429d28f\" y=\"224.64\"/>\n      </g>\n     </g>\n     <g id=\"text_1\">\n      <!-- 0 -->\n      <defs>\n       <path d=\"M 31.78125 66.40625 \nQ 24.171875 66.40625 20.328125 58.90625 \nQ 16.5 51.421875 16.5 36.375 \nQ 16.5 21.390625 20.328125 13.890625 \nQ 24.171875 6.390625 31.78125 6.390625 \nQ 39.453125 6.390625 43.28125 13.890625 \nQ 47.125 21.390625 47.125 36.375 \nQ 47.125 51.421875 43.28125 58.90625 \nQ 39.453125 66.40625 31.78125 66.40625 \nz\nM 31.78125 74.21875 \nQ 44.046875 74.21875 50.515625 64.515625 \nQ 56.984375 54.828125 56.984375 36.375 \nQ 56.984375 17.96875 50.515625 8.265625 \nQ 44.046875 -1.421875 31.78125 -1.421875 \nQ 19.53125 -1.421875 13.0625 8.265625 \nQ 6.59375 17.96875 6.59375 36.375 \nQ 6.59375 54.828125 13.0625 64.515625 \nQ 19.53125 74.21875 31.78125 74.21875 \nz\n\" id=\"DejaVuSans-48\"/>\n      </defs>\n      <g transform=\"translate(27.626607 239.238437)scale(0.1 -0.1)\">\n       <use xlink:href=\"#DejaVuSans-48\"/>\n      </g>\n     </g>\n    </g>\n    <g id=\"xtick_2\">\n     <g id=\"line2d_2\">\n      <g>\n       <use style=\"stroke:#000000;stroke-width:0.8;\" x=\"69.636429\" xlink:href=\"#m848429d28f\" y=\"224.64\"/>\n      </g>\n     </g>\n     <g id=\"text_2\">\n      <!-- 5 -->\n      <defs>\n       <path d=\"M 10.796875 72.90625 \nL 49.515625 72.90625 \nL 49.515625 64.59375 \nL 19.828125 64.59375 \nL 19.828125 46.734375 \nQ 21.96875 47.46875 24.109375 47.828125 \nQ 26.265625 48.1875 28.421875 48.1875 \nQ 40.625 48.1875 47.75 41.5 \nQ 54.890625 34.8125 54.890625 23.390625 \nQ 54.890625 11.625 47.5625 5.09375 \nQ 40.234375 -1.421875 26.90625 -1.421875 \nQ 22.3125 -1.421875 17.546875 -0.640625 \nQ 12.796875 0.140625 7.71875 1.703125 \nL 7.71875 11.625 \nQ 12.109375 9.234375 16.796875 8.0625 \nQ 21.484375 6.890625 26.703125 6.890625 \nQ 35.15625 6.890625 40.078125 11.328125 \nQ 45.015625 15.765625 45.015625 23.390625 \nQ 45.015625 31 40.078125 35.4375 \nQ 35.15625 39.890625 26.703125 39.890625 \nQ 22.75 39.890625 18.8125 39.015625 \nQ 14.890625 38.140625 10.796875 36.28125 \nz\n\" id=\"DejaVuSans-53\"/>\n      </defs>\n      <g transform=\"translate(66.455179 239.238437)scale(0.1 -0.1)\">\n       <use xlink:href=\"#DejaVuSans-53\"/>\n      </g>\n     </g>\n    </g>\n    <g id=\"xtick_3\">\n     <g id=\"line2d_3\">\n      <g>\n       <use style=\"stroke:#000000;stroke-width:0.8;\" x=\"108.465\" xlink:href=\"#m848429d28f\" y=\"224.64\"/>\n      </g>\n     </g>\n     <g id=\"text_3\">\n      <!-- 10 -->\n      <defs>\n       <path d=\"M 12.40625 8.296875 \nL 28.515625 8.296875 \nL 28.515625 63.921875 \nL 10.984375 60.40625 \nL 10.984375 69.390625 \nL 28.421875 72.90625 \nL 38.28125 72.90625 \nL 38.28125 8.296875 \nL 54.390625 8.296875 \nL 54.390625 0 \nL 12.40625 0 \nz\n\" id=\"DejaVuSans-49\"/>\n      </defs>\n      <g transform=\"translate(102.1025 239.238437)scale(0.1 -0.1)\">\n       <use xlink:href=\"#DejaVuSans-49\"/>\n       <use x=\"63.623047\" xlink:href=\"#DejaVuSans-48\"/>\n      </g>\n     </g>\n    </g>\n    <g id=\"xtick_4\">\n     <g id=\"line2d_4\">\n      <g>\n       <use style=\"stroke:#000000;stroke-width:0.8;\" x=\"147.293571\" xlink:href=\"#m848429d28f\" y=\"224.64\"/>\n      </g>\n     </g>\n     <g id=\"text_4\">\n      <!-- 15 -->\n      <g transform=\"translate(140.931071 239.238437)scale(0.1 -0.1)\">\n       <use xlink:href=\"#DejaVuSans-49\"/>\n       <use x=\"63.623047\" xlink:href=\"#DejaVuSans-53\"/>\n      </g>\n     </g>\n    </g>\n    <g id=\"xtick_5\">\n     <g id=\"line2d_5\">\n      <g>\n       <use style=\"stroke:#000000;stroke-width:0.8;\" x=\"186.122143\" xlink:href=\"#m848429d28f\" y=\"224.64\"/>\n      </g>\n     </g>\n     <g id=\"text_5\">\n      <!-- 20 -->\n      <defs>\n       <path d=\"M 19.1875 8.296875 \nL 53.609375 8.296875 \nL 53.609375 0 \nL 7.328125 0 \nL 7.328125 8.296875 \nQ 12.9375 14.109375 22.625 23.890625 \nQ 32.328125 33.6875 34.8125 36.53125 \nQ 39.546875 41.84375 41.421875 45.53125 \nQ 43.3125 49.21875 43.3125 52.78125 \nQ 43.3125 58.59375 39.234375 62.25 \nQ 35.15625 65.921875 28.609375 65.921875 \nQ 23.96875 65.921875 18.8125 64.3125 \nQ 13.671875 62.703125 7.8125 59.421875 \nL 7.8125 69.390625 \nQ 13.765625 71.78125 18.9375 73 \nQ 24.125 74.21875 28.421875 74.21875 \nQ 39.75 74.21875 46.484375 68.546875 \nQ 53.21875 62.890625 53.21875 53.421875 \nQ 53.21875 48.921875 51.53125 44.890625 \nQ 49.859375 40.875 45.40625 35.40625 \nQ 44.1875 33.984375 37.640625 27.21875 \nQ 31.109375 20.453125 19.1875 8.296875 \nz\n\" id=\"DejaVuSans-50\"/>\n      </defs>\n      <g transform=\"translate(179.759643 239.238437)scale(0.1 -0.1)\">\n       <use xlink:href=\"#DejaVuSans-50\"/>\n       <use x=\"63.623047\" xlink:href=\"#DejaVuSans-48\"/>\n      </g>\n     </g>\n    </g>\n    <g id=\"xtick_6\">\n     <g id=\"line2d_6\">\n      <g>\n       <use style=\"stroke:#000000;stroke-width:0.8;\" x=\"224.950714\" xlink:href=\"#m848429d28f\" y=\"224.64\"/>\n      </g>\n     </g>\n     <g id=\"text_6\">\n      <!-- 25 -->\n      <g transform=\"translate(218.588214 239.238437)scale(0.1 -0.1)\">\n       <use xlink:href=\"#DejaVuSans-50\"/>\n       <use x=\"63.623047\" xlink:href=\"#DejaVuSans-53\"/>\n      </g>\n     </g>\n    </g>\n   </g>\n   <g id=\"matplotlib.axis_2\">\n    <g id=\"ytick_1\">\n     <g id=\"line2d_7\">\n      <defs>\n       <path d=\"M 0 0 \nL -3.5 0 \n\" id=\"m06ea50199d\" style=\"stroke:#000000;stroke-width:0.8;\"/>\n      </defs>\n      <g>\n       <use style=\"stroke:#000000;stroke-width:0.8;\" x=\"26.925\" xlink:href=\"#m06ea50199d\" y=\"11.082857\"/>\n      </g>\n     </g>\n     <g id=\"text_7\">\n      <!-- 0 -->\n      <g transform=\"translate(13.5625 14.882076)scale(0.1 -0.1)\">\n       <use xlink:href=\"#DejaVuSans-48\"/>\n      </g>\n     </g>\n    </g>\n    <g id=\"ytick_2\">\n     <g id=\"line2d_8\">\n      <g>\n       <use style=\"stroke:#000000;stroke-width:0.8;\" x=\"26.925\" xlink:href=\"#m06ea50199d\" y=\"49.911429\"/>\n      </g>\n     </g>\n     <g id=\"text_8\">\n      <!-- 5 -->\n      <g transform=\"translate(13.5625 53.710647)scale(0.1 -0.1)\">\n       <use xlink:href=\"#DejaVuSans-53\"/>\n      </g>\n     </g>\n    </g>\n    <g id=\"ytick_3\">\n     <g id=\"line2d_9\">\n      <g>\n       <use style=\"stroke:#000000;stroke-width:0.8;\" x=\"26.925\" xlink:href=\"#m06ea50199d\" y=\"88.74\"/>\n      </g>\n     </g>\n     <g id=\"text_9\">\n      <!-- 10 -->\n      <g transform=\"translate(7.2 92.539219)scale(0.1 -0.1)\">\n       <use xlink:href=\"#DejaVuSans-49\"/>\n       <use x=\"63.623047\" xlink:href=\"#DejaVuSans-48\"/>\n      </g>\n     </g>\n    </g>\n    <g id=\"ytick_4\">\n     <g id=\"line2d_10\">\n      <g>\n       <use style=\"stroke:#000000;stroke-width:0.8;\" x=\"26.925\" xlink:href=\"#m06ea50199d\" y=\"127.568571\"/>\n      </g>\n     </g>\n     <g id=\"text_10\">\n      <!-- 15 -->\n      <g transform=\"translate(7.2 131.36779)scale(0.1 -0.1)\">\n       <use xlink:href=\"#DejaVuSans-49\"/>\n       <use x=\"63.623047\" xlink:href=\"#DejaVuSans-53\"/>\n      </g>\n     </g>\n    </g>\n    <g id=\"ytick_5\">\n     <g id=\"line2d_11\">\n      <g>\n       <use style=\"stroke:#000000;stroke-width:0.8;\" x=\"26.925\" xlink:href=\"#m06ea50199d\" y=\"166.397143\"/>\n      </g>\n     </g>\n     <g id=\"text_11\">\n      <!-- 20 -->\n      <g transform=\"translate(7.2 170.196362)scale(0.1 -0.1)\">\n       <use xlink:href=\"#DejaVuSans-50\"/>\n       <use x=\"63.623047\" xlink:href=\"#DejaVuSans-48\"/>\n      </g>\n     </g>\n    </g>\n    <g id=\"ytick_6\">\n     <g id=\"line2d_12\">\n      <g>\n       <use style=\"stroke:#000000;stroke-width:0.8;\" x=\"26.925\" xlink:href=\"#m06ea50199d\" y=\"205.225714\"/>\n      </g>\n     </g>\n     <g id=\"text_12\">\n      <!-- 25 -->\n      <g transform=\"translate(7.2 209.024933)scale(0.1 -0.1)\">\n       <use xlink:href=\"#DejaVuSans-50\"/>\n       <use x=\"63.623047\" xlink:href=\"#DejaVuSans-53\"/>\n      </g>\n     </g>\n    </g>\n   </g>\n   <g id=\"patch_3\">\n    <path d=\"M 26.925 224.64 \nL 26.925 7.2 \n\" style=\"fill:none;stroke:#000000;stroke-linecap:square;stroke-linejoin:miter;stroke-width:0.8;\"/>\n   </g>\n   <g id=\"patch_4\">\n    <path d=\"M 244.365 224.64 \nL 244.365 7.2 \n\" style=\"fill:none;stroke:#000000;stroke-linecap:square;stroke-linejoin:miter;stroke-width:0.8;\"/>\n   </g>\n   <g id=\"patch_5\">\n    <path d=\"M 26.925 224.64 \nL 244.365 224.64 \n\" style=\"fill:none;stroke:#000000;stroke-linecap:square;stroke-linejoin:miter;stroke-width:0.8;\"/>\n   </g>\n   <g id=\"patch_6\">\n    <path d=\"M 26.925 7.2 \nL 244.365 7.2 \n\" style=\"fill:none;stroke:#000000;stroke-linecap:square;stroke-linejoin:miter;stroke-width:0.8;\"/>\n   </g>\n  </g>\n </g>\n <defs>\n  <clipPath id=\"pf5c334f469\">\n   <rect height=\"217.44\" width=\"217.44\" x=\"26.925\" y=\"7.2\"/>\n  </clipPath>\n </defs>\n</svg>\n",
      "image/png": "[encoded data removed]"
     },
     "metadata": {
      "needs_background": "light"
     }
    }
   ],
   "source": [
    "img = X[0]\n",
    "img.shape = 28, 28\n",
    "plt.imshow(img, cmap='gray')"
   ]
  },
  {
   "cell_type": "code",
   "execution_count": 5,
   "metadata": {},
   "outputs": [],
   "source": [
    "from sklearn.model_selection import train_test_split\n",
    "X_train, X_test, y_train, y_test = train_test_split(X, y)"
   ]
  },
  {
   "cell_type": "code",
   "execution_count": 6,
   "metadata": {},
   "outputs": [],
   "source": [
    "from sklearn.preprocessing import StandardScaler\n",
    "sc = StandardScaler()\n",
    "sc.fit(X_train)\n",
    "X_train_sc = sc.transform(X_train)\n",
    "X_test_sc = sc.transform(X_test)"
   ]
  },
  {
   "cell_type": "code",
   "execution_count": 7,
   "metadata": {},
   "outputs": [],
   "source": [
    "from sklearn.decomposition import PCA"
   ]
  },
  {
   "cell_type": "code",
   "execution_count": 8,
   "metadata": {},
   "outputs": [],
   "source": [
    "pca = PCA()"
   ]
  },
  {
   "cell_type": "code",
   "execution_count": 9,
   "metadata": {},
   "outputs": [
    {
     "output_type": "execute_result",
     "data": {
      "text/plain": [
       "PCA()"
      ]
     },
     "metadata": {},
     "execution_count": 9
    }
   ],
   "source": [
    "pca.fit(X_train_sc)"
   ]
  },
  {
   "cell_type": "code",
   "execution_count": 10,
   "metadata": {},
   "outputs": [
    {
     "output_type": "execute_result",
     "data": {
      "text/plain": [
       "array([5.84453503e-02, 4.17170702e-02, 3.83427004e-02, 2.97269601e-02,\n",
       "       2.58371874e-02, 2.24787245e-02, 1.98625232e-02, 1.79523358e-02,\n",
       "       1.57765598e-02, 1.45161754e-02, 1.37664349e-02, 1.23978374e-02,\n",
       "       1.15172204e-02, 1.12877578e-02, 1.06466089e-02, 1.01498400e-02,\n",
       "       9.62348666e-03, 9.51332018e-03, 9.21343205e-03, 9.01403769e-03,\n",
       "       8.48337727e-03, 8.17840360e-03, 7.87660787e-03, 7.61321019e-03,\n",
       "       7.33039065e-03, 7.10483608e-03, 6.95505104e-03, 6.70503079e-03,\n",
       "       6.43066822e-03, 6.22042784e-03, 6.16942083e-03, 6.03580542e-03,\n",
       "       5.85010468e-03, 5.80095157e-03, 5.70808084e-03, 5.52351556e-03,\n",
       "       5.43889653e-03, 5.29140833e-03, 5.11568162e-03, 4.90754077e-03,\n",
       "       4.89204586e-03, 4.83850960e-03, 4.71147429e-03, 4.63436793e-03,\n",
       "       4.56591938e-03, 4.51413031e-03, 4.46688917e-03, 4.43031163e-03,\n",
       "       4.33612259e-03, 4.28423148e-03, 4.18246704e-03, 4.08443652e-03,\n",
       "       4.05732793e-03, 3.98964064e-03, 3.88946904e-03, 3.83631327e-03,\n",
       "       3.76619516e-03, 3.70909248e-03, 3.66011239e-03, 3.60525014e-03,\n",
       "       3.53568686e-03, 3.51273334e-03, 3.47295926e-03, 3.44482537e-03,\n",
       "       3.37545682e-03, 3.33201644e-03, 3.28528720e-03, 3.27055738e-03,\n",
       "       3.20018196e-03, 3.16499456e-03, 3.15732162e-03, 3.11981380e-03,\n",
       "       3.07992333e-03, 3.06601904e-03, 3.03393171e-03, 3.00652978e-03,\n",
       "       2.96117554e-03, 2.93577379e-03, 2.92677921e-03, 2.90787724e-03,\n",
       "       2.87691725e-03, 2.86083260e-03, 2.83139419e-03, 2.81543688e-03,\n",
       "       2.79785401e-03, 2.77034938e-03, 2.74348381e-03, 2.72792185e-03,\n",
       "       2.68273686e-03, 2.65047779e-03, 2.65001840e-03, 2.61593652e-03,\n",
       "       2.60318266e-03, 2.57874309e-03, 2.54364252e-03, 2.53648231e-03,\n",
       "       2.49252053e-03, 2.48305242e-03, 2.43737018e-03, 2.39400207e-03,\n",
       "       2.38135421e-03, 2.36166832e-03, 2.34249495e-03, 2.33371434e-03,\n",
       "       2.31281436e-03, 2.30700434e-03, 2.26388912e-03, 2.25247638e-03,\n",
       "       2.23829938e-03, 2.20847965e-03, 2.16339959e-03, 2.14573043e-03,\n",
       "       2.12263661e-03, 2.11369988e-03, 2.06981336e-03, 2.05054798e-03,\n",
       "       2.02166279e-03, 1.99906119e-03, 1.98077313e-03, 1.96775012e-03,\n",
       "       1.94998806e-03, 1.94211597e-03, 1.89494928e-03, 1.88388942e-03,\n",
       "       1.87497875e-03, 1.86771791e-03, 1.84065064e-03, 1.83451320e-03,\n",
       "       1.82918729e-03, 1.77692431e-03, 1.77378708e-03, 1.75620469e-03,\n",
       "       1.73181200e-03, 1.71762247e-03, 1.69788479e-03, 1.68986182e-03,\n",
       "       1.67701568e-03, 1.66774508e-03, 1.65961269e-03, 1.63644316e-03,\n",
       "       1.59473946e-03, 1.57269008e-03, 1.56098647e-03, 1.55328943e-03,\n",
       "       1.54111961e-03, 1.53430391e-03, 1.52844431e-03, 1.51123004e-03,\n",
       "       1.49786967e-03, 1.49430968e-03, 1.47975976e-03, 1.46526596e-03,\n",
       "       1.45840863e-03, 1.44774562e-03, 1.43717722e-03, 1.43104943e-03,\n",
       "       1.42763550e-03, 1.42623349e-03, 1.42254488e-03, 1.41594787e-03,\n",
       "       1.41107808e-03, 1.40537355e-03, 1.39917374e-03, 1.38695079e-03,\n",
       "       1.36830795e-03, 1.36154377e-03, 1.35640226e-03, 1.33738055e-03,\n",
       "       1.33155022e-03, 1.32124473e-03, 1.31141607e-03, 1.30451589e-03,\n",
       "       1.29440230e-03, 1.28414101e-03, 1.27953248e-03, 1.26240336e-03,\n",
       "       1.25784500e-03, 1.24084536e-03, 1.23849024e-03, 1.22189218e-03,\n",
       "       1.19938693e-03, 1.18313683e-03, 1.17980960e-03, 1.17489552e-03,\n",
       "       1.16490128e-03, 1.14983560e-03, 1.13949889e-03, 1.12074558e-03,\n",
       "       1.11826393e-03, 1.10305002e-03, 1.08721529e-03, 1.07590204e-03,\n",
       "       1.07029786e-03, 1.06765960e-03, 1.05999496e-03, 1.05052518e-03,\n",
       "       1.03930212e-03, 1.03624947e-03, 1.01437750e-03, 1.00190838e-03,\n",
       "       9.97853219e-04, 9.87713941e-04, 9.80358958e-04, 9.79075371e-04,\n",
       "       9.70850488e-04, 9.54165234e-04, 9.49407070e-04, 9.35783148e-04,\n",
       "       9.31021113e-04, 9.26791826e-04, 9.20698327e-04, 9.11870726e-04,\n",
       "       8.98444480e-04, 8.89252911e-04, 8.86376064e-04, 8.72770241e-04,\n",
       "       8.65000700e-04, 8.59829161e-04, 8.53025488e-04, 8.40046050e-04,\n",
       "       8.36222584e-04, 8.25989806e-04, 8.16080919e-04, 8.06758365e-04,\n",
       "       8.01840039e-04, 7.98802514e-04, 7.89122561e-04, 7.76999597e-04,\n",
       "       7.62523103e-04, 7.58623210e-04, 7.50278063e-04, 7.38762615e-04,\n",
       "       7.37271949e-04, 7.28743869e-04, 7.25696163e-04, 7.19229767e-04,\n",
       "       7.11919684e-04, 6.99036361e-04, 6.98333936e-04, 6.90452279e-04,\n",
       "       6.86624344e-04, 6.82813825e-04, 6.74585540e-04, 6.67348168e-04,\n",
       "       6.51452731e-04, 6.42880239e-04, 6.40205598e-04, 6.26085980e-04,\n",
       "       6.21085428e-04, 6.11639116e-04, 6.07043100e-04, 6.05378053e-04,\n",
       "       6.01743016e-04, 5.97072623e-04, 5.92941106e-04, 5.91855748e-04,\n",
       "       5.87703480e-04, 5.77024317e-04, 5.76273416e-04, 5.73933029e-04,\n",
       "       5.70447378e-04, 5.65802025e-04, 5.59353611e-04, 5.55356727e-04,\n",
       "       5.51841060e-04, 5.46407873e-04, 5.43921772e-04, 5.36228701e-04,\n",
       "       5.32496514e-04, 5.26682720e-04, 5.22809863e-04, 5.20111470e-04,\n",
       "       5.15389629e-04, 5.13849919e-04, 5.09803811e-04, 5.03630959e-04,\n",
       "       4.99096360e-04, 4.94735968e-04, 4.91434715e-04, 4.86935064e-04,\n",
       "       4.83789871e-04, 4.81216255e-04, 4.80165210e-04, 4.70299134e-04,\n",
       "       4.65499627e-04, 4.59562566e-04, 4.53361758e-04, 4.49596670e-04,\n",
       "       4.46164250e-04, 4.43258189e-04, 4.38611199e-04, 4.34238979e-04,\n",
       "       4.29429208e-04, 4.24811254e-04, 4.19851151e-04, 4.19339325e-04,\n",
       "       4.17251773e-04, 4.15776814e-04, 4.12031346e-04, 4.10245161e-04,\n",
       "       4.04303446e-04, 4.02191038e-04, 4.00797792e-04, 3.93627119e-04,\n",
       "       3.91563023e-04, 3.85564982e-04, 3.83441516e-04, 3.82704121e-04,\n",
       "       3.80136077e-04, 3.76258251e-04, 3.71193244e-04, 3.67792076e-04,\n",
       "       3.63385759e-04, 3.61057199e-04, 3.57856144e-04, 3.56754866e-04,\n",
       "       3.55016343e-04, 3.50856913e-04, 3.47238614e-04, 3.42819547e-04,\n",
       "       3.40949616e-04, 3.37465612e-04, 3.36372268e-04, 3.32660798e-04,\n",
       "       3.29123089e-04, 3.28128312e-04, 3.26020817e-04, 3.24226718e-04,\n",
       "       3.20970636e-04, 3.16630557e-04, 3.14225083e-04, 3.12888931e-04,\n",
       "       3.10887363e-04, 3.08572170e-04, 3.06528350e-04, 3.04631489e-04,\n",
       "       3.00337334e-04, 2.97748171e-04, 2.96627072e-04, 2.93686710e-04,\n",
       "       2.92316719e-04, 2.90429180e-04, 2.88882916e-04, 2.85474238e-04,\n",
       "       2.83322551e-04, 2.81420829e-04, 2.79738325e-04, 2.79224363e-04,\n",
       "       2.78041003e-04, 2.74259277e-04, 2.70940729e-04, 2.69393799e-04,\n",
       "       2.67097229e-04, 2.66497013e-04, 2.63097885e-04, 2.61358613e-04,\n",
       "       2.58209920e-04, 2.56954844e-04, 2.54018848e-04, 2.51732746e-04,\n",
       "       2.51002727e-04, 2.49314089e-04, 2.48306915e-04, 2.47974090e-04,\n",
       "       2.46455696e-04, 2.45127382e-04, 2.42634912e-04, 2.39005387e-04,\n",
       "       2.36209761e-04, 2.34576476e-04, 2.32884654e-04, 2.31186005e-04,\n",
       "       2.30541958e-04, 2.29428368e-04, 2.27961210e-04, 2.27348848e-04,\n",
       "       2.24301311e-04, 2.24120401e-04, 2.23079326e-04, 2.22411674e-04,\n",
       "       2.20624703e-04, 2.19747228e-04, 2.18247435e-04, 2.15604503e-04,\n",
       "       2.14364059e-04, 2.11777290e-04, 2.09902808e-04, 2.08272565e-04,\n",
       "       2.07565928e-04, 2.06030411e-04, 2.04186084e-04, 2.03222991e-04,\n",
       "       2.01760367e-04, 2.01136666e-04, 1.99900550e-04, 1.97707011e-04,\n",
       "       1.97504328e-04, 1.96767800e-04, 1.95058811e-04, 1.94466941e-04,\n",
       "       1.92434962e-04, 1.92354559e-04, 1.91385079e-04, 1.90701482e-04,\n",
       "       1.89361168e-04, 1.87693899e-04, 1.87154021e-04, 1.85035201e-04,\n",
       "       1.82763719e-04, 1.81190149e-04, 1.80008065e-04, 1.78455159e-04,\n",
       "       1.78118051e-04, 1.77318560e-04, 1.76083332e-04, 1.75807430e-04,\n",
       "       1.74698252e-04, 1.72865285e-04, 1.72258472e-04, 1.71835826e-04,\n",
       "       1.69916590e-04, 1.69164890e-04, 1.68006895e-04, 1.67207216e-04,\n",
       "       1.66666245e-04, 1.65035166e-04, 1.64160914e-04, 1.63694896e-04,\n",
       "       1.62398789e-04, 1.61152123e-04, 1.60381880e-04, 1.58426834e-04,\n",
       "       1.57528730e-04, 1.56948713e-04, 1.56206154e-04, 1.55439416e-04,\n",
       "       1.54564474e-04, 1.53065149e-04, 1.52444336e-04, 1.51556745e-04,\n",
       "       1.51032243e-04, 1.49511488e-04, 1.49003601e-04, 1.47773703e-04,\n",
       "       1.45820735e-04, 1.44775147e-04, 1.44634708e-04, 1.44282197e-04,\n",
       "       1.43740473e-04, 1.43030155e-04, 1.41631167e-04, 1.40230386e-04,\n",
       "       1.39698146e-04, 1.38828840e-04, 1.38459783e-04, 1.37635893e-04,\n",
       "       1.36909306e-04, 1.35818469e-04, 1.35176957e-04, 1.34955286e-04,\n",
       "       1.33876004e-04, 1.32948297e-04, 1.32742622e-04, 1.31535209e-04,\n",
       "       1.31369355e-04, 1.31004125e-04, 1.29737960e-04, 1.29021421e-04,\n",
       "       1.28391193e-04, 1.28326546e-04, 1.27071872e-04, 1.26584927e-04,\n",
       "       1.26049846e-04, 1.24909125e-04, 1.24053597e-04, 1.23649660e-04,\n",
       "       1.23032860e-04, 1.22472412e-04, 1.21841617e-04, 1.21347812e-04,\n",
       "       1.20150712e-04, 1.19825891e-04, 1.19682174e-04, 1.19023914e-04,\n",
       "       1.18088203e-04, 1.16418925e-04, 1.16196638e-04, 1.16010946e-04,\n",
       "       1.14936647e-04, 1.13600891e-04, 1.13404130e-04, 1.12763383e-04,\n",
       "       1.12610276e-04, 1.11398314e-04, 1.11097139e-04, 1.10293082e-04,\n",
       "       1.10073793e-04, 1.09528857e-04, 1.08848815e-04, 1.08591312e-04,\n",
       "       1.07871341e-04, 1.07545050e-04, 1.07201227e-04, 1.06948922e-04,\n",
       "       1.05478586e-04, 1.05397804e-04, 1.04740619e-04, 1.03980803e-04,\n",
       "       1.03669471e-04, 1.03022410e-04, 1.02480699e-04, 1.01872698e-04,\n",
       "       1.01397907e-04, 1.00962869e-04, 1.00028090e-04, 9.97699059e-05,\n",
       "       9.94294855e-05, 9.93136655e-05, 9.81730827e-05, 9.79815255e-05,\n",
       "       9.78593526e-05, 9.69457695e-05, 9.67551337e-05, 9.60490078e-05,\n",
       "       9.55738463e-05, 9.52272681e-05, 9.50244173e-05, 9.43030880e-05,\n",
       "       9.30206245e-05, 9.27677671e-05, 9.22111011e-05, 9.13521066e-05,\n",
       "       9.12176543e-05, 9.05868885e-05, 9.03059131e-05, 8.91594576e-05,\n",
       "       8.89058593e-05, 8.85140689e-05, 8.80354970e-05, 8.73871422e-05,\n",
       "       8.69858183e-05, 8.66365662e-05, 8.63080003e-05, 8.57848943e-05,\n",
       "       8.54342823e-05, 8.51567776e-05, 8.45859124e-05, 8.38642141e-05,\n",
       "       8.36748195e-05, 8.30192427e-05, 8.16297207e-05, 8.15592025e-05,\n",
       "       8.10417698e-05, 8.02598367e-05, 8.00332356e-05, 7.97569556e-05,\n",
       "       7.92505903e-05, 7.90057649e-05, 7.87703447e-05, 7.83711880e-05,\n",
       "       7.74525469e-05, 7.70970823e-05, 7.66639264e-05, 7.62041861e-05,\n",
       "       7.58361817e-05, 7.55322624e-05, 7.53881471e-05, 7.48576013e-05,\n",
       "       7.44604522e-05, 7.36071753e-05, 7.33640407e-05, 7.28881008e-05,\n",
       "       7.23338494e-05, 7.22569923e-05, 7.18469832e-05, 7.14547506e-05,\n",
       "       7.08135551e-05, 7.03790416e-05, 7.02888850e-05, 6.96413792e-05,\n",
       "       6.94634515e-05, 6.89992884e-05, 6.88565684e-05, 6.84621498e-05,\n",
       "       6.77550234e-05, 6.73896649e-05, 6.72299304e-05, 6.68823573e-05,\n",
       "       6.66888706e-05, 6.62465646e-05, 6.58364345e-05, 6.54273660e-05,\n",
       "       6.46570304e-05, 6.44666916e-05, 6.40147165e-05, 6.36810518e-05,\n",
       "       6.29341657e-05, 6.28177455e-05, 6.23480915e-05, 6.21028071e-05,\n",
       "       6.18336368e-05, 6.15662204e-05, 6.14264160e-05, 6.10855284e-05,\n",
       "       6.07590437e-05, 6.02275357e-05, 5.97956513e-05, 5.96177795e-05,\n",
       "       5.87865250e-05, 5.85172428e-05, 5.82564730e-05, 5.77010858e-05,\n",
       "       5.75543882e-05, 5.72591493e-05, 5.69303583e-05, 5.68336900e-05,\n",
       "       5.63090576e-05, 5.59657683e-05, 5.57397178e-05, 5.52858339e-05,\n",
       "       5.51567119e-05, 5.46346022e-05, 5.38556064e-05, 5.37217379e-05,\n",
       "       5.34883293e-05, 5.31414552e-05, 5.29383617e-05, 5.24917606e-05,\n",
       "       5.23696707e-05, 5.19670511e-05, 5.14442129e-05, 5.09042264e-05,\n",
       "       5.06879225e-05, 5.02614633e-05, 4.98436407e-05, 4.94383698e-05,\n",
       "       4.93445034e-05, 4.89291120e-05, 4.87522068e-05, 4.83004041e-05,\n",
       "       4.79585278e-05, 4.73307974e-05, 4.70573522e-05, 4.69582895e-05,\n",
       "       4.63200022e-05, 4.59600358e-05, 4.57336649e-05, 4.51901487e-05,\n",
       "       4.50510555e-05, 4.46677642e-05, 4.43368370e-05, 4.39513177e-05,\n",
       "       4.37107864e-05, 4.31687483e-05, 4.29110678e-05, 4.22253211e-05,\n",
       "       4.17018259e-05, 4.16010757e-05, 4.11512145e-05, 4.08238449e-05,\n",
       "       4.05891761e-05, 4.02789404e-05, 3.99365316e-05, 3.94852261e-05,\n",
       "       3.91645136e-05, 3.89273524e-05, 3.84986370e-05, 3.81698024e-05,\n",
       "       3.78563969e-05, 3.76448546e-05, 3.75644592e-05, 3.68899163e-05,\n",
       "       3.64302627e-05, 3.61098822e-05, 3.54775437e-05, 3.51736344e-05,\n",
       "       3.46795695e-05, 3.42906074e-05, 3.39876497e-05, 3.35305498e-05,\n",
       "       3.32275343e-05, 3.30600723e-05, 3.27047194e-05, 3.22746234e-05,\n",
       "       3.13709321e-05, 3.01330127e-05, 2.95707777e-05, 2.93867626e-05,\n",
       "       2.85176829e-05, 2.63170508e-05, 2.55926107e-05, 2.00110125e-05,\n",
       "       1.67676410e-05, 2.66351462e-06, 8.44914472e-07, 3.97765021e-32,\n",
       "       2.69228791e-32, 8.35267618e-33, 8.14619968e-33, 5.68036818e-33,\n",
       "       5.14634416e-33, 3.75429841e-33, 3.71848280e-33, 1.94697022e-33,\n",
       "       1.83665350e-33, 1.74651612e-33, 9.72983266e-34, 9.32338855e-34,\n",
       "       8.87823392e-34, 5.90786338e-34, 4.89908432e-34, 4.52016061e-34,\n",
       "       3.89411782e-34, 3.80151689e-34, 3.48920952e-34, 3.48920952e-34,\n",
       "       3.48920952e-34, 3.48920952e-34, 3.48920952e-34, 3.48920952e-34,\n",
       "       3.48920952e-34, 3.48920952e-34, 3.48920952e-34, 3.48920952e-34,\n",
       "       3.48920952e-34, 3.48920952e-34, 3.48920952e-34, 3.48920952e-34,\n",
       "       3.48920952e-34, 3.48920952e-34, 3.48920952e-34, 3.48920952e-34,\n",
       "       3.48920952e-34, 3.48920952e-34, 3.48920952e-34, 3.48920952e-34,\n",
       "       3.48920952e-34, 3.48920952e-34, 3.48920952e-34, 3.48920952e-34,\n",
       "       3.48920952e-34, 3.48920952e-34, 3.48920952e-34, 3.48920952e-34,\n",
       "       3.48920952e-34, 3.48920952e-34, 3.48920952e-34, 3.48920952e-34,\n",
       "       3.48920952e-34, 3.48920952e-34, 3.48920952e-34, 3.48920952e-34,\n",
       "       3.48920952e-34, 3.48920952e-34, 3.48920952e-34, 3.48920952e-34,\n",
       "       3.48920952e-34, 3.48920952e-34, 3.48920952e-34, 3.48920952e-34,\n",
       "       3.48920952e-34, 3.48920952e-34, 3.48920952e-34, 3.48920952e-34,\n",
       "       3.48920952e-34, 3.48920952e-34, 3.48920952e-34, 3.48920952e-34,\n",
       "       3.48920952e-34, 3.48920952e-34, 3.48920952e-34, 3.48920952e-34,\n",
       "       3.48920952e-34, 3.48920952e-34, 3.48920952e-34, 3.48920952e-34,\n",
       "       3.48920952e-34, 3.48920952e-34, 3.48920952e-34, 3.48920952e-34,\n",
       "       3.06325777e-34, 1.27671527e-34, 9.96985550e-35, 1.84167369e-35])"
      ]
     },
     "metadata": {},
     "execution_count": 10
    }
   ],
   "source": [
    "pca.explained_variance_ratio_"
   ]
  },
  {
   "source": [
    "# En datos estándar, realizaríamos la reducción sobre valores standarizados.\n",
    "En estos datos que ya tienen una variación estandar de 0 a 255 y hay zonas con muy poca variación resulta perjudicial y lo haremos sobre los datos sin escalar, pero en la mayoiría de casos lo haremos sobre los datos escalados"
   ],
   "cell_type": "markdown",
   "metadata": {}
  },
  {
   "cell_type": "code",
   "execution_count": 11,
   "metadata": {},
   "outputs": [
    {
     "output_type": "execute_result",
     "data": {
      "text/plain": [
       "153"
      ]
     },
     "metadata": {},
     "execution_count": 11
    }
   ],
   "source": [
    "pca_2 = PCA(0.95)\n",
    "pca_2.fit(X_train)\n",
    "len(pca_2.explained_variance_ratio_)"
   ]
  },
  {
   "cell_type": "code",
   "execution_count": 12,
   "metadata": {},
   "outputs": [
    {
     "output_type": "execute_result",
     "data": {
      "text/plain": [
       "(31500, 153)"
      ]
     },
     "metadata": {},
     "execution_count": 12
    }
   ],
   "source": [
    "X_train_pca = pca_2.transform(X_train_sc)\n",
    "X_test_pca = pca_2.transform(X_test_sc)\n",
    "X_train_pca.shape"
   ]
  },
  {
   "source": [
    "# Logistic regressor"
   ],
   "cell_type": "markdown",
   "metadata": {}
  },
  {
   "cell_type": "code",
   "execution_count": 13,
   "metadata": {},
   "outputs": [],
   "source": [
    "from sklearn.linear_model import LogisticRegression"
   ]
  },
  {
   "cell_type": "code",
   "execution_count": 32,
   "metadata": {},
   "outputs": [
    {
     "output_type": "execute_result",
     "data": {
      "text/plain": [
       "LogisticRegression(C=1, max_iter=200, n_jobs=-1)"
      ]
     },
     "metadata": {},
     "execution_count": 32
    }
   ],
   "source": [
    "lr = LogisticRegression(C=1, max_iter=200, n_jobs=-1)\n",
    "lr.fit(X_train, y_train)"
   ]
  },
  {
   "cell_type": "code",
   "execution_count": 33,
   "metadata": {},
   "outputs": [],
   "source": [
    "from sklearn.metrics import accuracy_score"
   ]
  },
  {
   "cell_type": "code",
   "execution_count": 34,
   "metadata": {},
   "outputs": [
    {
     "output_type": "execute_result",
     "data": {
      "text/plain": [
       "0.9115238095238095"
      ]
     },
     "metadata": {},
     "execution_count": 34
    }
   ],
   "source": [
    "y_pred = lr.predict(X_test)\n",
    "accuracy_score(y_pred, y_test)"
   ]
  },
  {
   "cell_type": "code",
   "execution_count": 35,
   "metadata": {},
   "outputs": [
    {
     "output_type": "stream",
     "name": "stdout",
     "text": [
      "C: 0.1 - Accuracy: 0.9088571428571428\n",
      "C: 0.5 - Accuracy: 0.9128571428571428\n",
      "C: 1.0 - Accuracy: 0.9115238095238095\n",
      "C: 1.5 - Accuracy: 0.9127619047619048\n"
     ]
    }
   ],
   "source": [
    "for c in [0.1, 0.5, 1.0, 1.5]:\n",
    "    lr = LogisticRegression(C=c, max_iter=200, n_jobs=-1)\n",
    "    lr.fit(X_train, y_train)\n",
    "    y_pred = lr.predict(X_test)\n",
    "    acc = accuracy_score(y_pred, y_test)\n",
    "    print(f'C: {c} - Accuracy: {acc}')"
   ]
  },
  {
   "cell_type": "code",
   "execution_count": 40,
   "metadata": {},
   "outputs": [
    {
     "output_type": "stream",
     "name": "stdout",
     "text": [
      "Fitting 3 folds for each of 3 candidates, totalling 9 fits\n"
     ]
    }
   ],
   "source": [
    "from sklearn.model_selection import GridSearchCV\n",
    "from sklearn.linear_model import LogisticRegression\n",
    "logistic_regression = LogisticRegression(n_jobs=-1)\n",
    "parameters = {'C' : [0.05, 0.1, 0.15]}\n",
    "grid_search = GridSearchCV(estimator = logistic_regression, param_grid = parameters, scoring = 'accuracy', cv = 3, n_jobs = -1 ,verbose = 2)\n",
    "grid_scores = grid_search.fit(X, y)"
   ]
  },
  {
   "cell_type": "code",
   "execution_count": 41,
   "metadata": {},
   "outputs": [
    {
     "output_type": "execute_result",
     "data": {
      "text/plain": [
       "{'mean_fit_time': array([14.63199051, 14.68379577, 14.48038387]),\n",
       " 'std_fit_time': array([0.7512291 , 0.327839  , 0.83204079]),\n",
       " 'mean_score_time': array([0.05336372, 0.05804594, 0.05518381]),\n",
       " 'std_score_time': array([0.00960868, 0.00831295, 0.01264422]),\n",
       " 'param_C': masked_array(data=[0.05, 0.1, 0.15],\n",
       "              mask=[False, False, False],\n",
       "        fill_value='?',\n",
       "             dtype=object),\n",
       " 'params': [{'C': 0.05}, {'C': 0.1}, {'C': 0.15}],\n",
       " 'split0_test_score': array([0.90190476, 0.90228571, 0.90095238]),\n",
       " 'split1_test_score': array([0.90961905, 0.90980952, 0.91028571]),\n",
       " 'split2_test_score': array([0.90952381, 0.91028571, 0.91066667]),\n",
       " 'mean_test_score': array([0.90701587, 0.90746032, 0.90730159]),\n",
       " 'std_test_score': array([0.00361431, 0.00366416, 0.00449226]),\n",
       " 'rank_test_score': array([3, 1, 2], dtype=int32)}"
      ]
     },
     "metadata": {},
     "execution_count": 41
    }
   ],
   "source": [
    "grid_scores.cv_results_"
   ]
  },
  {
   "cell_type": "code",
   "execution_count": null,
   "metadata": {},
   "outputs": [],
   "source": []
  }
 ]
}